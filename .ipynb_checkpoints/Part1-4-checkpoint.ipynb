{
 "cells": [
  {
   "cell_type": "markdown",
   "id": "34955785-7d53-4f35-befa-bde166c83fff",
   "metadata": {},
   "source": [
    "# Question 3 - Part1\n",
    "The basic structure of the code is an excerpt of the baseline. The fundamental model given already is used as a foundation on which we perform:\n",
    "1) Batch Norm\n",
    "2) Adding new layers\n",
    "3) With Dropout\n",
    "4) Different activation functions at the end\n",
    "5) Different pooling strategies•Different optimizers\n",
    "6) Basic Augmentation like Rotation, Translation, Color Change"
   ]
  },
  {
   "cell_type": "markdown",
   "id": "7b82e04b-d0be-4b25-9566-c0330f29c7a6",
   "metadata": {},
   "source": [
    "#### Import all the packages"
   ]
  },
  {
   "cell_type": "code",
   "execution_count": 1,
   "id": "ba86e019-3a63-42d5-ab3d-65eb344904a4",
   "metadata": {},
   "outputs": [
    {
     "data": {
      "text/plain": [
       "<matplotlib.pyplot._IonContext at 0x7f4c94f58b80>"
      ]
     },
     "execution_count": 1,
     "metadata": {},
     "output_type": "execute_result"
    }
   ],
   "source": [
    "from __future__ import print_function, division\n",
    "import os\n",
    "import pandas as pd\n",
    "from skimage import io, transform\n",
    "import numpy as np\n",
    "import matplotlib.pyplot as plt\n",
    "import cv2\n",
    "\n",
    "import torch\n",
    "from torch.utils.data import Dataset, DataLoader\n",
    "import torch.nn as nn\n",
    "import torch.nn.functional as F\n",
    "from torchvision import transforms, utils\n",
    "from torchvision import models\n",
    "from torch.utils.data.sampler import SubsetRandomSampler\n",
    "import torch.optim as optim\n",
    "\n",
    "\n",
    "from sklearn import preprocessing\n",
    "from sklearn.metrics import f1_score,precision_score,log_loss\n",
    "\n",
    "\n",
    "# Ignore warnings\n",
    "import warnings\n",
    "warnings.filterwarnings(\"ignore\")\n",
    "plt.ion()   # interactive mode"
   ]
  },
  {
   "cell_type": "code",
   "execution_count": 2,
   "id": "45e0e34d-cdc4-4a7c-ad8d-6a47047fb925",
   "metadata": {},
   "outputs": [],
   "source": [
    "import gc\n",
    "\n",
    "gc.collect()\n",
    "\n",
    "torch.cuda.empty_cache()\n"
   ]
  },
  {
   "cell_type": "code",
   "execution_count": 3,
   "id": "201fb026-81a5-44df-ad03-458006a8294c",
   "metadata": {},
   "outputs": [
    {
     "name": "stdout",
     "output_type": "stream",
     "text": [
      "             ImageId  ClassName\n",
      "0     f27632d7e5.jpg         55\n",
      "1     efa87919ed.jpg         41\n",
      "2     4f169e8c8d.jpg         12\n",
      "3     a6956654bf.jpg         44\n",
      "4     d99ce8c3bf.jpg         23\n",
      "...              ...        ...\n",
      "9318  ba8233c7d2.jpg          7\n",
      "9319  2090043907.jpg         58\n",
      "9320  8762d1cefd.jpg         14\n",
      "9321  28e7439245.jpg         12\n",
      "9322  ba263cfb41.jpg         21\n",
      "\n",
      "[9323 rows x 2 columns]\n"
     ]
    }
   ],
   "source": [
    "table = pd.read_csv('data/train/train.csv')\n",
    "Label_Encode = preprocessing.LabelEncoder()\n",
    "Labels = Label_Encode.fit_transform(table['ClassName'])\n",
    "trainData = table\n",
    "trainData['ClassName'] = Labels\n",
    "print(trainData)"
   ]
  },
  {
   "cell_type": "markdown",
   "id": "f8f448d3-bb03-475a-98e6-291ce821dcd6",
   "metadata": {},
   "source": [
    "#### **Data Augmentation**"
   ]
  },
  {
   "cell_type": "code",
   "execution_count": 4,
   "id": "e5bfa447-e5d8-4734-8bf7-cd8e61e5d294",
   "metadata": {},
   "outputs": [],
   "source": [
    "\n",
    "# augData = trainData.copy(deep=True)\n",
    "# trainData['augData'] =  [0]*len(trainData)\n",
    "# augData['augData'] = [1]*len(augData)\n",
    "# combo = pd.concat([trainData,augData],ignore_index=True)\n",
    "# print(combo)\n",
    "# # print(combo[9318:9322])"
   ]
  },
  {
   "cell_type": "code",
   "execution_count": 5,
   "id": "e3125b1e-786b-4662-b52f-60ac19e038e4",
   "metadata": {},
   "outputs": [],
   "source": [
    "class FoodData(Dataset):\n",
    "    def __init__(self,dataFile,fileDir,transform=None,train=True):\n",
    "        super().__init__()\n",
    "        self.data_list = dataFile\n",
    "        self.data_dir = fileDir\n",
    "        self.transform = transform\n",
    "        self.train = train\n",
    "    \n",
    "    def __len__(self):\n",
    "        return self.data_list.shape[0]\n",
    "    \n",
    "    def __getitem__(self,item):\n",
    "        if self.train:\n",
    "            img_name = self.data_list.iloc[item]['ImageId']\n",
    "            label = self.data_list.iloc[item]['ClassName']\n",
    "        else:\n",
    "              img_name = self.data_list.iloc[item]['ImageId']\n",
    "        img_path = os.path.join(self.data_dir,img_name)\n",
    "        img = cv2.imread(img_path,1)\n",
    "        img = cv2.resize(img,(256,256))\n",
    "        if self.transform:\n",
    "            img = self.transform(img)\n",
    "            \n",
    "#         augValue = self.data_list.iloc[item,-1]\n",
    "#         if augValue == 1:\n",
    "#             img = cv2.flip(img, 0)\n",
    "        if self.train:\n",
    "              return {'ImgVals' : img, 'labelId' : torch.tensor(label)}\n",
    "        else:\n",
    "              return {'ImgVals':img}"
   ]
  },
  {
   "cell_type": "markdown",
   "id": "84429cd0-92c2-4e0f-93fa-5f3ef4002b7b",
   "metadata": {},
   "source": [
    "Instanciate the training data class"
   ]
  },
  {
   "cell_type": "code",
   "execution_count": 6,
   "id": "09900925-1c73-453b-a08d-6b0086e4fa75",
   "metadata": {},
   "outputs": [
    {
     "name": "stdout",
     "output_type": "stream",
     "text": [
      "<__main__.FoodData object at 0x7f4b657865e0>\n"
     ]
    }
   ],
   "source": [
    "trainPath = 'data/train/train_images'\n",
    "\n",
    "train_data = FoodData(dataFile = trainData,\n",
    "                           fileDir = trainPath,\n",
    "                           transform = transforms.Compose([\n",
    "                                transforms.ToPILImage(),\n",
    "                                transforms.ToTensor(),\n",
    "                                transforms.Normalize((0.5, 0.5, 0.5), (0.5,0.5,0.5))\n",
    "                            ]))\n",
    "print(train_data)"
   ]
  },
  {
   "cell_type": "markdown",
   "id": "2b3f7776-4d5e-4233-b26c-0169a7f19503",
   "metadata": {},
   "source": [
    "Split train_data object into training, validation"
   ]
  },
  {
   "cell_type": "code",
   "execution_count": 7,
   "id": "16ffc98e-b300-4023-b701-6d66557f6004",
   "metadata": {},
   "outputs": [],
   "source": [
    "batch_size = 32\n",
    "Validation_Split = 0.2\n",
    "num = train_data.__len__()\n",
    "indices = list(range(num))\n",
    "np.random.shuffle(indices)\n",
    "val = np.floor(Validation_Split*num)\n",
    "split = int(val)\n",
    "train_indexes = indices[split:]\n",
    "validation_indexes = indices[:split]"
   ]
  },
  {
   "cell_type": "code",
   "execution_count": 8,
   "id": "eafe2412-8a3e-4b87-8c3c-a240d116b649",
   "metadata": {},
   "outputs": [],
   "source": [
    "#Creating Trianing Samplers\n",
    "TrainingSampler = SubsetRandomSampler(train_indexes)\n",
    "trainDataLoader = DataLoader(train_data, \n",
    "                             batch_size=batch_size, \n",
    "                             sampler=TrainingSampler,\n",
    "                             num_workers=4,\n",
    "                             pin_memory = False)"
   ]
  },
  {
   "cell_type": "code",
   "execution_count": 9,
   "id": "2bf1385f-79ed-415a-b58b-7b46001682b9",
   "metadata": {},
   "outputs": [],
   "source": [
    "#Creating Validation Samplers\n",
    "ValidationSampler = SubsetRandomSampler(validation_indexes)\n",
    "validDataLoader = DataLoader(train_data, \n",
    "                             batch_size=batch_size,\n",
    "                             num_workers=4,\n",
    "                             sampler=ValidationSampler,\n",
    "                             pin_memory=False)"
   ]
  },
  {
   "cell_type": "markdown",
   "id": "b77a06e1-08a6-429a-995a-35c29910df3e",
   "metadata": {},
   "source": [
    "Instanciate the test data class"
   ]
  },
  {
   "cell_type": "code",
   "execution_count": 10,
   "id": "f6f51c7d-d623-40fe-9b96-8a99b8a766da",
   "metadata": {},
   "outputs": [
    {
     "name": "stdout",
     "output_type": "stream",
     "text": [
      "<__main__.FoodData object at 0x7f4b656cf310>\n"
     ]
    }
   ],
   "source": [
    "#Store test data\n",
    "testData = pd.read_csv('data/test/test.csv')\n",
    "testPath = 'data/test/test_images/'\n",
    "test_data = FoodData(dataFile = testData,\n",
    "                           fileDir = testPath,\n",
    "                           transform = transforms.Compose([\n",
    "                                transforms.ToPILImage(),\n",
    "                                transforms.ToTensor(),\n",
    "                                transforms.Normalize((0.5, 0.5, 0.5), (0.5,0.5,0.5))\n",
    "                            ]),\n",
    "                            train=False)\n",
    "print(test_data)"
   ]
  },
  {
   "cell_type": "code",
   "execution_count": 11,
   "id": "20709dc2-5284-4134-b363-8b6470d13b7d",
   "metadata": {},
   "outputs": [],
   "source": [
    "#Make TestData Dataloader\n",
    "testDataLoader = DataLoader(test_data, \n",
    "                             num_workers=4,\n",
    "                             pin_memory=False,\n",
    "                             batch_size=batch_size)"
   ]
  },
  {
   "cell_type": "code",
   "execution_count": 12,
   "id": "86ad4858-72fa-4a12-bf06-e23ecdd7e862",
   "metadata": {},
   "outputs": [
    {
     "name": "stdout",
     "output_type": "stream",
     "text": [
      "cpu\n"
     ]
    }
   ],
   "source": [
    "#Check if cuda is working \n",
    "device = torch.device(\"cpu\" if torch.cuda.is_available() else \"cpu\")\n",
    "print(device)"
   ]
  },
  {
   "attachments": {
    "d0d2f63e-6761-40cb-9aba-4edf8555d68d.png": {
     "image/png": "[encoded data removed]"
    }
   },
   "cell_type": "markdown",
   "id": "a6806148-0e43-408e-ad66-55007a9102ee",
   "metadata": {},
   "source": [
    "### **Make Model**\n",
    "Arbirary CNN Model used as base: <br>\n",
    "<p align = 'center'><img src='attachment:d0d2f63e-6761-40cb-9aba-4edf8555d68d.png'></p>"
   ]
  },
  {
   "cell_type": "code",
   "execution_count": 13,
   "id": "538337d7-b892-4f26-8a8e-589335214f4c",
   "metadata": {},
   "outputs": [],
   "source": [
    "class Net(nn.Module):\n",
    "  # Define layers here\n",
    "    def __init__(self):\n",
    "        super(Net, self).__init__()\n",
    "        self.conv1 = nn.Conv2d(3, 6, 5)\n",
    "        self.pool = nn.MaxPool2d(2, 2)\n",
    "        self.conv2 = nn.Conv2d(6, 16, 5)\n",
    "        self.fc1 = nn.Linear(16 * 61 * 61, 120)\n",
    "        self.fc2 = nn.Linear(120, 84)\n",
    "        self.fc3 = nn.Linear(84, 61)\n",
    "\n",
    "    def forward(self, x):\n",
    "      # Forward pass\n",
    "        x = self.pool(F.relu(self.conv1(x)))\n",
    "        x = self.pool(F.relu(self.conv2(x)))\n",
    "        x = x.view(-1, 16 * 61 * 61)\n",
    "        x = F.relu(self.fc1(x))\n",
    "        x = F.relu(self.fc2(x))\n",
    "        x = self.fc3(x)\n",
    "        return x\n",
    "# model = nn.Sequential()\n",
    "# class Net(nn.Module):\n",
    "#     def __init__(self):\n",
    "#         super(Net, self).__init__()\n",
    "#         model = nn.Sequential(nn.Conv2d(3,6,5),\n",
    "#                       nn.ReLU(),\n",
    "#                       nn.MaxPool2d(2,2),\n",
    "#                       nn.Conv2d(6, 16, 5),\n",
    "#                       nn.ReLU(),\n",
    "#                       nn.MaxPool2d(2, 2),\n",
    "#                       nn.Net(),\n",
    "#                       nn.Linear(16 * 61 * 61, 120),\n",
    "#                       nn.ReLU(),\n",
    "#                       nn.Linear(120, 84),\n",
    "#                       nn.ReLU(),\n",
    "#                       nn.Linear(84, 61))\n",
    "#     def forward(self, x):\n",
    "#         x = x.view(-1, 16 * 61 * 61)\n",
    "#         return x\n"
   ]
  },
  {
   "cell_type": "code",
   "execution_count": 14,
   "id": "f6823e55-8f6c-418c-b13e-c2264104770f",
   "metadata": {},
   "outputs": [],
   "source": [
    "model = Net().to(device)\n",
    "#Loss Function\n",
    "error = nn.CrossEntropyLoss().to(device)\n",
    "optimizer = optim.Adam(model.parameters())"
   ]
  },
  {
   "cell_type": "code",
   "execution_count": 15,
   "id": "a6a121cb-f1ea-47ba-9426-059c86782ddc",
   "metadata": {},
   "outputs": [
    {
     "name": "stdout",
     "output_type": "stream",
     "text": [
      "cpu\n"
     ]
    }
   ],
   "source": [
    "print(device)"
   ]
  },
  {
   "cell_type": "markdown",
   "id": "553ce8d7-22b8-4731-a248-4281b9e2887e",
   "metadata": {},
   "source": [
    "#### Train Model"
   ]
  },
  {
   "cell_type": "code",
   "execution_count": 20,
   "id": "f8efb696-156d-485b-a5a1-69b6dd433883",
   "metadata": {},
   "outputs": [
    {
     "name": "stdout",
     "output_type": "stream",
     "text": [
      "Epoch: 0 \tTraining Loss: 2.599185 \tValidation Loss: 3.148677\n",
      "Epoch: 1 \tTraining Loss: 1.683818 \tValidation Loss: 3.625062\n",
      "Epoch: 2 \tTraining Loss: 0.697844 \tValidation Loss: 4.986783\n",
      "Epoch: 3 \tTraining Loss: 0.257350 \tValidation Loss: 6.551063\n",
      "Epoch: 4 \tTraining Loss: 0.109709 \tValidation Loss: 7.851189\n",
      "Epoch: 5 \tTraining Loss: 0.060615 \tValidation Loss: 8.163487\n",
      "Epoch: 6 \tTraining Loss: 0.050003 \tValidation Loss: 8.507969\n",
      "Epoch: 7 \tTraining Loss: 0.067120 \tValidation Loss: 8.538847\n",
      "Epoch: 8 \tTraining Loss: 0.077050 \tValidation Loss: 8.861168\n",
      "Epoch: 9 \tTraining Loss: 0.048198 \tValidation Loss: 9.576020\n",
      "Epoch: 10 \tTraining Loss: 0.042614 \tValidation Loss: 10.612552\n",
      "Epoch: 11 \tTraining Loss: 0.041703 \tValidation Loss: 10.194143\n",
      "Epoch: 12 \tTraining Loss: 0.056119 \tValidation Loss: 10.135963\n",
      "Epoch: 13 \tTraining Loss: 0.045084 \tValidation Loss: 10.783241\n",
      "Epoch: 14 \tTraining Loss: 0.073027 \tValidation Loss: 11.288510\n"
     ]
    }
   ],
   "source": [
    "n_epochs = 15\n",
    "valid_loss_min = np.Inf\n",
    "train_losses = []\n",
    "valid_losses = []\n",
    "\n",
    "for epoch in range(n_epochs):\n",
    "    train_loss = 0.0\n",
    "    valid_loss = 0.0\n",
    "#     scheduler.step()\n",
    "#     # Print Learning Rate\n",
    "#     print('Epoch:', epoch,'LR:', scheduler.get_lr())\n",
    "    model.train()\n",
    "    for images in trainDataLoader:\n",
    "        data = images['ImgVals'].squeeze(0).to(device)\n",
    "        target = images['labelId'].to(device)\n",
    "        optimizer.zero_grad()\n",
    "#         forward pass the model\n",
    "        output = model(data)\n",
    "#     backward pass the model\n",
    "        loss = error(output,target)\n",
    "        loss.backward()\n",
    "#         Perform a single optimization step\n",
    "        optimizer.step()\n",
    "        train_loss += loss.item()*data.size(0)\n",
    "        \n",
    "    \n",
    "    \n",
    "    \n",
    "    model.eval()\n",
    "    for images in validDataLoader:\n",
    "        data = images['ImgVals'].squeeze(0).to(device)\n",
    "        target = images['labelId'].to(device)\n",
    "#         forward pass now\n",
    "        output = model(data)\n",
    "#         calculate the branch loss\n",
    "        loss = error(output, target)\n",
    "#     update average validation loss\n",
    "        valid_loss += loss.item()*data.size(0)\n",
    "    \n",
    "    train_loss /= len(trainDataLoader.sampler)\n",
    "    valid_loss /= len(validDataLoader.sampler)\n",
    "    \n",
    "    train_losses.append(train_loss)\n",
    "    valid_losses.append(valid_loss)\n",
    "    print('Epoch: {} \\tTraining Loss: {:.6f} \\tValidation Loss: {:.6f}'.format(\n",
    "        epoch, train_loss, valid_loss))    \n",
    "    if valid_loss <= valid_loss_min:\n",
    "        valid_loss_min = valid_loss\n",
    "        torch.save(model.state_dict(), 'InitialPart1.pth')"
   ]
  },
  {
   "cell_type": "code",
   "execution_count": 24,
   "id": "0f592a4c-3017-40ea-81ad-8b3dce59d297",
   "metadata": {},
   "outputs": [
    {
     "name": "stdout",
     "output_type": "stream",
     "text": [
      "[2.5991847782963515, 1.6838181186320076, 0.6978442036189795, 0.2573503031297861, 0.10970946516699186, 0.060615231060385626, 0.05000295201189588, 0.0671203311735694, 0.07705003004140937, 0.04819847010839844, 0.04261397821325542, 0.04170322387909634, 0.05611930603711439, 0.045084397980550264, 0.07302718015590819]\n",
      "[3.1486771853696633, 3.6250620154352147, 4.9867831729512355, 6.551063185597694, 7.851189308412085, 8.163487440526742, 8.507968984448347, 8.538846895930082, 8.861168370226421, 9.576019696411656, 10.612551640031676, 10.194142693613731, 10.135962760499618, 10.783240703042484, 11.288509512152283]\n",
      "[ 0  1  2  3  4  5  6  7  8  9 10 11 12 13 14]\n"
     ]
    }
   ],
   "source": [
    "print(train_losses)\n",
    "print(valid_losses)\n",
    "epoch= np.arange(15)\n",
    "print(epoch)"
   ]
  },
  {
   "cell_type": "code",
   "execution_count": 25,
   "id": "a863b9b6-97d7-40f6-8ddd-2f3af77c2167",
   "metadata": {},
   "outputs": [
    {
     "data": {
      "image/png": "[encoded data removed]",
      "text/plain": [
       "<Figure size 432x288 with 1 Axes>"
      ]
     },
     "metadata": {
      "needs_background": "light"
     },
     "output_type": "display_data"
    }
   ],
   "source": [
    "fig, ax = plt.subplots()\n",
    "ax.plot(epoch, valid_losses,label='Validation')\n",
    "ax.plot(epoch,train_losses,label='Training')\n",
    "ax.grid()\n",
    "\n",
    "ax.set(xlabel='epoch', ylabel='loss',\n",
    "       title='Loss function vs Epoch')\n",
    "leg = ax.legend();\n",
    "fig.savefig(\"test.png\")\n",
    "plt.show()"
   ]
  },
  {
   "cell_type": "code",
   "execution_count": 30,
   "id": "b6979338-7da9-4d97-8561-1ecb923f47fd",
   "metadata": {},
   "outputs": [],
   "source": [
    "model.load_state_dict(torch.load('InitialPart1.pth'))\n",
    "model.eval()\n",
    "\n",
    "preds = []\n",
    "with torch.no_grad():\n",
    "    for images in testDataLoader:\n",
    "        data = images['ImgVals'].squeeze(0).to(device)\n",
    "        outputs = model(data)\n",
    "        _, predicted = torch.max(outputs.data, 1)\n",
    "        pr = predicted.detach().cpu().numpy()\n",
    "        for i in pr:\n",
    "              preds.append(i)"
   ]
  },
  {
   "cell_type": "code",
   "execution_count": 31,
   "id": "91bf1dd0-5d65-487c-8270-945bbe837746",
   "metadata": {},
   "outputs": [],
   "source": [
    "# Create Submission file        \n",
    "df = pd.DataFrame(Label_Encode.inverse_transform(preds),columns=['ClassName'])\n",
    "df.to_csv('submissionPart1_1.csv',index=False)"
   ]
  },
  {
   "cell_type": "markdown",
   "id": "d0caafd6-60f8-41a0-8eb5-8654e32b814c",
   "metadata": {},
   "source": [
    "Score with basic model without much optimisations: 0.227\n",
    "    We observe that there is a lot of overfitting due to the high value of the validation loss\n",
    "    \n",
    "Score"
   ]
  }
 ],
 "metadata": {
  "kernelspec": {
   "display_name": "Python 3 (ipykernel)",
   "language": "python",
   "name": "python3"
  },
  "language_info": {
   "codemirror_mode": {
    "name": "ipython",
    "version": 3
   },
   "file_extension": ".py",
   "mimetype": "text/x-python",
   "name": "python",
   "nbconvert_exporter": "python",
   "pygments_lexer": "ipython3",
   "version": "3.8.5"
  }
 },
 "nbformat": 4,
 "nbformat_minor": 5
}
