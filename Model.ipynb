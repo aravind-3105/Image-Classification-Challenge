{
 "cells": [
  {
   "cell_type": "markdown",
   "metadata": {},
   "source": [
    "# Chunin Exams Food Track- CV'2021\n"
   ]
  },
  {
   "cell_type": "markdown",
   "metadata": {},
   "source": [
    "### **Achieved an F1 Score of 0.479**\n",
    "Main method used: \n",
    "    1) Data Augmentation<br>\n",
    "    2) Duplicated the dataset and added extra augmentation to that to make a larger dataset<br>\n",
    "    3) Used Resnet18 with 20 epochs<br>"
   ]
  },
  {
   "cell_type": "markdown",
   "metadata": {},
   "source": [
    "## Import Libraries"
   ]
  },
  {
   "cell_type": "code",
   "execution_count": 18,
   "metadata": {},
   "outputs": [
    {
     "data": {
      "text/plain": [
       "<matplotlib.pyplot._IonContext at 0x7f8ef40f5af0>"
      ]
     },
     "execution_count": 18,
     "metadata": {},
     "output_type": "execute_result"
    }
   ],
   "source": [
    "from __future__ import print_function, division\n",
    "import os\n",
    "import torch\n",
    "import pandas as pd\n",
    "from skimage import io, transform\n",
    "import numpy as np\n",
    "import matplotlib.pyplot as plt\n",
    "from torch.utils.data import Dataset, DataLoader\n",
    "from sklearn import preprocessing\n",
    "from torchvision import transforms, utils\n",
    "from torchvision import models\n",
    "from torch.utils.data.sampler import SubsetRandomSampler\n",
    "import cv2\n",
    "from sklearn.metrics import f1_score,precision_score,log_loss\n",
    "# Ignore warnings\n",
    "import warnings\n",
    "warnings.filterwarnings(\"ignore\")\n",
    "\n",
    "plt.ion()   # interactive mode"
   ]
  },
  {
   "cell_type": "markdown",
   "metadata": {},
   "source": [
    "## Import Data"
   ]
  },
  {
   "cell_type": "code",
   "execution_count": 2,
   "metadata": {
    "id": "XOo5Q96onPVW"
   },
   "outputs": [
    {
     "name": "stdout",
     "output_type": "stream",
     "text": [
      "             ImageId  ClassName\n",
      "0     f27632d7e5.jpg         55\n",
      "1     efa87919ed.jpg         41\n",
      "2     4f169e8c8d.jpg         12\n",
      "3     a6956654bf.jpg         44\n",
      "4     d99ce8c3bf.jpg         23\n",
      "...              ...        ...\n",
      "9318  ba8233c7d2.jpg          7\n",
      "9319  2090043907.jpg         58\n",
      "9320  8762d1cefd.jpg         14\n",
      "9321  28e7439245.jpg         12\n",
      "9322  ba263cfb41.jpg         21\n",
      "\n",
      "[9323 rows x 2 columns]\n"
     ]
    }
   ],
   "source": [
    "table = pd.read_csv('data/train/train.csv')\n",
    "Label_Encode = preprocessing.LabelEncoder()\n",
    "Labels = Label_Encode.fit_transform(table['ClassName'])\n",
    "trainData = table\n",
    "trainData['ClassName'] = Labels\n",
    "print(trainData)\n"
   ]
  },
  {
   "cell_type": "markdown",
   "metadata": {},
   "source": [
    "### Duplicate the dataset to augment data and increase total images available for training\n"
   ]
  },
  {
   "cell_type": "code",
   "execution_count": 3,
   "metadata": {},
   "outputs": [
    {
     "name": "stdout",
     "output_type": "stream",
     "text": [
      "              ImageId  ClassName  augData\n",
      "0      f27632d7e5.jpg         55        0\n",
      "1      efa87919ed.jpg         41        0\n",
      "2      4f169e8c8d.jpg         12        0\n",
      "3      a6956654bf.jpg         44        0\n",
      "4      d99ce8c3bf.jpg         23        0\n",
      "...               ...        ...      ...\n",
      "18641  ba8233c7d2.jpg          7        1\n",
      "18642  2090043907.jpg         58        1\n",
      "18643  8762d1cefd.jpg         14        1\n",
      "18644  28e7439245.jpg         12        1\n",
      "18645  ba263cfb41.jpg         21        1\n",
      "\n",
      "[18646 rows x 3 columns]\n",
      "             ImageId  ClassName  augData\n",
      "9318  ba8233c7d2.jpg          7        0\n",
      "9319  2090043907.jpg         58        0\n",
      "9320  8762d1cefd.jpg         14        0\n",
      "9321  28e7439245.jpg         12        0\n",
      "9322  ba263cfb41.jpg         21        0\n",
      "9323  f27632d7e5.jpg         55        1\n",
      "9324  efa87919ed.jpg         41        1\n",
      "9325  4f169e8c8d.jpg         12        1\n",
      "9326  a6956654bf.jpg         44        1\n"
     ]
    }
   ],
   "source": [
    "augData = trainData.copy(deep=True)\n",
    "trainData['augData'] =  [0]*len(trainData)\n",
    "augData['augData'] = [1]*len(augData)\n",
    "combo = pd.concat([trainData,augData],ignore_index=True)\n",
    "print(combo)\n",
    "print(combo[9318:9327])"
   ]
  },
  {
   "cell_type": "markdown",
   "metadata": {},
   "source": [
    "## Define Custom Dataloader"
   ]
  },
  {
   "cell_type": "code",
   "execution_count": 4,
   "metadata": {},
   "outputs": [],
   "source": [
    "class FoodData(Dataset):\n",
    "    def __init__(self,dataFile,fileDir,transform=None,transform_aug = None,train=True):\n",
    "        super().__init__()\n",
    "        self.data_list = dataFile\n",
    "        self.data_dir = fileDir\n",
    "        self.transform = transform\n",
    "        self.transform_aug = transform_aug\n",
    "        self.train = train\n",
    "    \n",
    "    def __len__(self):\n",
    "        return self.data_list.shape[0]\n",
    "    \n",
    "    def __getitem__(self,item):\n",
    "        if self.train:\n",
    "            img_name = self.data_list.iloc[item]['ImageId']\n",
    "            label = self.data_list.iloc[item]['ClassName']\n",
    "        else:\n",
    "              img_name = self.data_list.iloc[item]['ImageId']\n",
    "        img_path = os.path.join(self.data_dir,img_name)\n",
    "        img = cv2.imread(img_path,1)\n",
    "        img = cv2.resize(img,(256,256))\n",
    "        if self.train:\n",
    "            augValue = self.data_list.iloc[item,-1]\n",
    "            if augValue == 0:\n",
    "                img = self.transform(img)\n",
    "            if augValue == 1:\n",
    "                img = self.transform_aug(img)\n",
    "        else:\n",
    "            if self.transform:\n",
    "                img=self.transform(img)\n",
    "            \n",
    "        if self.train:\n",
    "              return {'ImgVals' : img, 'labelId' : torch.tensor(label)}\n",
    "        else:\n",
    "              return {'ImgVals':img}"
   ]
  },
  {
   "cell_type": "code",
   "execution_count": 5,
   "metadata": {},
   "outputs": [
    {
     "name": "stdout",
     "output_type": "stream",
     "text": [
      "<__main__.FoodData object at 0x7f8ed52daeb0>\n"
     ]
    }
   ],
   "source": [
    "trainPath = 'data/train/train_images'\n",
    "\n",
    "train_data = FoodData(dataFile = combo,\n",
    "                           fileDir = trainPath,\n",
    "                           transform = transforms.Compose([\n",
    "                                transforms.ToPILImage(),\n",
    "                                transforms.ToTensor(),\n",
    "                                transforms.Normalize((0.5, 0.5, 0.5), (0.5,0.5,0.5))\n",
    "                            ]),\n",
    "                          transform_aug = transforms.Compose([\n",
    "                                transforms.ToPILImage(),\n",
    "                                transforms.ToTensor(),\n",
    "                                transforms.ColorJitter(brightness=0.1, contrast=0.1, saturation=0.1, hue=0.1),\n",
    "                                transforms.RandomHorizontalFlip(),\n",
    "                                transforms.Normalize((0.5, 0.5, 0.5), (0.5,0.5,0.5))\n",
    "                            ]))\n",
    "\n",
    "print(train_data)"
   ]
  },
  {
   "cell_type": "code",
   "execution_count": 6,
   "metadata": {
    "id": "BBwgTv6v-JjC"
   },
   "outputs": [
    {
     "name": "stdout",
     "output_type": "stream",
     "text": [
      "<__main__.FoodData object at 0x7f8ed51d9730>\n"
     ]
    }
   ],
   "source": [
    "#Store test data\n",
    "testData = pd.read_csv('data/test/test.csv')\n",
    "testPath = 'data/test/test_images/'\n",
    "test_data = FoodData(dataFile = testData,\n",
    "                           fileDir = testPath,\n",
    "                           transform = transforms.Compose([\n",
    "                                transforms.ToPILImage(),\n",
    "                                transforms.ToTensor(),\n",
    "                                transforms.Normalize((0.5, 0.5, 0.5), (0.5,0.5,0.5))\n",
    "                            ]),\n",
    "                         train=False)\n",
    "print(test_data)"
   ]
  },
  {
   "cell_type": "markdown",
   "metadata": {},
   "source": [
    "## Split into training and validation set\n",
    "We do a 80-20% division with a batch size of 64"
   ]
  },
  {
   "cell_type": "code",
   "execution_count": 7,
   "metadata": {
    "id": "KQx0SjTzC8rD"
   },
   "outputs": [],
   "source": [
    "batch_size = 64\n",
    "valid_size = 0.2\n",
    "num = train_data.__len__()\n",
    "# Dividing the indices for train and cross validation\n",
    "indices = list(range(num))\n",
    "np.random.shuffle(indices)\n",
    "split = int(np.floor(valid_size*num))\n",
    "train_idx,valid_idx = indices[split:], indices[:split]\n",
    "\n",
    "#Create Samplers\n",
    "train_sampler = SubsetRandomSampler(train_idx)\n",
    "validation_sampler = SubsetRandomSampler(valid_idx)\n",
    "\n",
    "\n",
    "trainDataLoader = DataLoader(train_data, \n",
    "                             batch_size=batch_size, \n",
    "                             num_workers=8,\n",
    "                             pin_memory = True,\n",
    "                             sampler=train_sampler)\n",
    "validDataLoader = DataLoader(train_data, \n",
    "                             batch_size=batch_size,\n",
    "                             num_workers=8,\n",
    "                             pin_memory=True,\n",
    "                             sampler=validation_sampler)"
   ]
  },
  {
   "cell_type": "markdown",
   "metadata": {
    "id": "daFAO0Ez6qxv"
   },
   "source": [
    "Here we load test images. Note: This file will not have any labels with it"
   ]
  },
  {
   "cell_type": "code",
   "execution_count": 8,
   "metadata": {
    "id": "ozAU2IdEDzCl"
   },
   "outputs": [],
   "source": [
    "#Test data\n",
    "testDataLoader = DataLoader(test_data, \n",
    "                             num_workers=8,\n",
    "                             pin_memory=True,\n",
    "                             batch_size=batch_size)"
   ]
  },
  {
   "cell_type": "code",
   "execution_count": 9,
   "metadata": {
    "colab": {
     "base_uri": "https://localhost:8080/",
     "height": 34
    },
    "id": "l_W_9ZtdD1Mb",
    "outputId": "0d16e386-309b-4083-e0ab-bab957b12b1e"
   },
   "outputs": [
    {
     "name": "stdout",
     "output_type": "stream",
     "text": [
      "cuda:0\n"
     ]
    }
   ],
   "source": [
    "device = torch.device(\"cuda:0\" if torch.cuda.is_available() else \"cpu\")\n",
    "print(device)"
   ]
  },
  {
   "cell_type": "markdown",
   "metadata": {},
   "source": [
    "## resnet18 is used as pretrained model"
   ]
  },
  {
   "cell_type": "code",
   "execution_count": 10,
   "metadata": {
    "id": "EYeJgQeSXhP7"
   },
   "outputs": [],
   "source": [
    "import torch.nn as nn\n",
    "import torch.nn.functional as F\n",
    "\n",
    "model = models.resnet18(pretrained=True)"
   ]
  },
  {
   "cell_type": "markdown",
   "metadata": {},
   "source": [
    "Adam optimiser is used along with cross entropy loss function"
   ]
  },
  {
   "cell_type": "code",
   "execution_count": 11,
   "metadata": {
    "id": "5wgZsoAMEqpe"
   },
   "outputs": [],
   "source": [
    "import torch.optim as optim\n",
    "#Loss Function\n",
    "error = nn.CrossEntropyLoss().to(device)\n",
    "optimizer = optim.Adam(model.parameters())"
   ]
  },
  {
   "cell_type": "markdown",
   "metadata": {},
   "source": [
    "### Training the model for 20 epochs"
   ]
  },
  {
   "cell_type": "code",
   "execution_count": 12,
   "metadata": {
    "colab": {
     "base_uri": "https://localhost:8080/",
     "height": 191
    },
    "id": "ocymwmaNGFfg",
    "outputId": "85a7cab1-7033-4819-d9be-ebf47af49d6e"
   },
   "outputs": [
    {
     "name": "stdout",
     "output_type": "stream",
     "text": [
      "Epoch: 0 \tTraining Loss: 2.469186 \tValidation Loss: 2.438229\n",
      "Validation Loss decreased inf -> 2.438229\n",
      "Epoch: 1 \tTraining Loss: 1.751111 \tValidation Loss: 2.131592\n",
      "Validation Loss decreased 2.438229 -> 2.131592\n",
      "Epoch: 2 \tTraining Loss: 1.395349 \tValidation Loss: 1.912671\n",
      "Validation Loss decreased 2.131592 -> 1.912671\n",
      "Epoch: 3 \tTraining Loss: 1.091845 \tValidation Loss: 1.701151\n",
      "Validation Loss decreased 1.912671 -> 1.701151\n",
      "Epoch: 4 \tTraining Loss: 0.782725 \tValidation Loss: 1.670546\n",
      "Validation Loss decreased 1.701151 -> 1.670546\n",
      "Epoch: 5 \tTraining Loss: 0.664480 \tValidation Loss: 1.333986\n",
      "Validation Loss decreased 1.670546 -> 1.333986\n",
      "Epoch: 6 \tTraining Loss: 0.414579 \tValidation Loss: 1.286937\n",
      "Validation Loss decreased 1.333986 -> 1.286937\n",
      "Epoch: 7 \tTraining Loss: 0.293721 \tValidation Loss: 1.072141\n",
      "Validation Loss decreased 1.286937 -> 1.072141\n",
      "Epoch: 8 \tTraining Loss: 0.225262 \tValidation Loss: 0.936764\n",
      "Validation Loss decreased 1.072141 -> 0.936764\n",
      "Epoch: 9 \tTraining Loss: 0.160793 \tValidation Loss: 0.927972\n",
      "Validation Loss decreased 0.936764 -> 0.927972\n",
      "Epoch: 10 \tTraining Loss: 0.149183 \tValidation Loss: 0.980872\n",
      "Epoch: 11 \tTraining Loss: 0.244362 \tValidation Loss: 1.048874\n",
      "Epoch: 12 \tTraining Loss: 0.191574 \tValidation Loss: 1.042049\n",
      "Epoch: 13 \tTraining Loss: 0.133846 \tValidation Loss: 0.881491\n",
      "Validation Loss decreased 0.927972 -> 0.881491\n",
      "Epoch: 14 \tTraining Loss: 0.072323 \tValidation Loss: 0.964417\n",
      "Epoch: 15 \tTraining Loss: 0.163499 \tValidation Loss: 0.917148\n",
      "Epoch: 16 \tTraining Loss: 0.082029 \tValidation Loss: 1.097790\n",
      "Epoch: 17 \tTraining Loss: 0.145114 \tValidation Loss: 1.048857\n",
      "Epoch: 18 \tTraining Loss: 0.100703 \tValidation Loss: 0.935918\n",
      "Epoch: 19 \tTraining Loss: 0.117245 \tValidation Loss: 1.014219\n"
     ]
    }
   ],
   "source": [
    "n_epochs = 20\n",
    "valid_loss_min = np.Inf\n",
    "model.to(device)\n",
    "train_losses = []\n",
    "valid_losses = []\n",
    "\n",
    "for epoch in range(n_epochs):\n",
    "    train_loss = 0.0\n",
    "    valid_loss = 0.0\n",
    "#     scheduler.step()\n",
    "#     # Print Learning Rate\n",
    "#     print('Epoch:', epoch,'LR:', scheduler.get_lr())\n",
    "    model.train()\n",
    "    for images in trainDataLoader:\n",
    "        data = images['ImgVals'].squeeze(0).to(device)\n",
    "        # data = data.squeeze(0)\n",
    "        target = images['labelId'].to(device)\n",
    "#             clear the gradients of all optimized variables\n",
    "        optimizer.zero_grad()\n",
    "#         forward pass the model\n",
    "        output = model(data)\n",
    "#     backward pass the model\n",
    "        loss = error(output,target)\n",
    "        loss.backward()\n",
    "#         Perform a single optimization step\n",
    "        optimizer.step()\n",
    "        train_loss += loss.item()*data.size(0)\n",
    "        \n",
    "    \n",
    "    \n",
    "    \n",
    "    model.eval()\n",
    "    for images in validDataLoader:\n",
    "        data = images['ImgVals'].squeeze(0).to(device)\n",
    "        target = images['labelId'].to(device)\n",
    "#         forward pass now\n",
    "        output = model(data)\n",
    "#         calculate the branch loss\n",
    "        loss = error(output, target)\n",
    "#     update average validation loss\n",
    "        valid_loss += loss.item()*data.size(0)\n",
    "    \n",
    "    train_loss /= len(trainDataLoader.sampler)\n",
    "    valid_loss /= len(validDataLoader.sampler)\n",
    "    \n",
    "    train_losses.append(train_loss)\n",
    "    valid_losses.append(valid_loss)\n",
    "    \n",
    "    print('Epoch: {} \\tTraining Loss: {:.6f} \\tValidation Loss: {:.6f}'.format(\n",
    "        epoch, train_loss, valid_loss))\n",
    "    \n",
    "    if valid_loss <= valid_loss_min:\n",
    "        print(\"Validation Loss decreased {:0.6f} -> {:0.6f}\".format(valid_loss_min,valid_loss))\n",
    "        valid_loss_min = valid_loss\n",
    "        torch.save(model.state_dict(), 'Part2_Aug.pth')"
   ]
  },
  {
   "cell_type": "markdown",
   "metadata": {},
   "source": [
    "### Plot error functions vs epoch"
   ]
  },
  {
   "cell_type": "code",
   "execution_count": 14,
   "metadata": {},
   "outputs": [
    {
     "data": {
      "image/png": "[encoded data removed]",
      "text/plain": [
       "<Figure size 432x288 with 1 Axes>"
      ]
     },
     "metadata": {
      "needs_background": "light"
     },
     "output_type": "display_data"
    }
   ],
   "source": [
    "epoch= np.arange(20)\n",
    "fig, ax = plt.subplots()\n",
    "ax.plot(epoch, valid_losses,label='Validation')\n",
    "ax.plot(epoch,train_losses,label='Training')\n",
    "ax.grid()\n",
    "\n",
    "ax.set(xlabel='epoch', ylabel='loss',\n",
    "       title='Loss function vs Epoch')\n",
    "leg = ax.legend();\n",
    "fig.savefig(\"graph.png\")\n",
    "plt.show()"
   ]
  },
  {
   "cell_type": "markdown",
   "metadata": {},
   "source": [
    "### Generate predictions for testdata"
   ]
  },
  {
   "cell_type": "code",
   "execution_count": 15,
   "metadata": {},
   "outputs": [],
   "source": [
    "model.load_state_dict(torch.load('Part2_Aug.pth'))\n",
    "model.eval()\n",
    "\n",
    "preds = []\n",
    "with torch.no_grad():\n",
    "    for images in testDataLoader:\n",
    "        data = images['ImgVals'].squeeze(0).to(device)\n",
    "        outputs = model(data)\n",
    "        _, predicted = torch.max(outputs.data, 1)\n",
    "        pr = predicted.detach().cpu().numpy()\n",
    "        for i in pr:\n",
    "              preds.append(i)\n"
   ]
  },
  {
   "cell_type": "markdown",
   "metadata": {},
   "source": [
    "### Test accuracy by running the model on validation data"
   ]
  },
  {
   "cell_type": "code",
   "execution_count": 16,
   "metadata": {
    "colab": {
     "base_uri": "https://localhost:8080/",
     "height": 34
    },
    "id": "aFau5IeyG3c3",
    "outputId": "0dcd5d39-2526-4ef9-e220-cb280c5822e6"
   },
   "outputs": [
    {
     "name": "stdout",
     "output_type": "stream",
     "text": [
      "Accuracy of the network on the 10000 test images: 81.040493 %\n"
     ]
    }
   ],
   "source": [
    "model.load_state_dict(torch.load('Part2_Aug.pth'))\n",
    "model.eval()\n",
    "correct = 0\n",
    "total = 0\n",
    "pred_list = []\n",
    "correct_list = []\n",
    "model.cuda()\n",
    "with torch.no_grad():\n",
    "    for images in validDataLoader:\n",
    "        data = images['ImgVals'].squeeze(0).to(device)\n",
    "        target = images['labelId'].to(device)\n",
    "        outputs = model(data)\n",
    "        _, predicted = torch.max(outputs.data, 1)\n",
    "        total += target.size(0)\n",
    "        pr = predicted.detach().cpu().numpy()\n",
    "        for i in pr:\n",
    "                pred_list.append(i)\n",
    "        tg = target.detach().cpu().numpy()\n",
    "        for i in tg:\n",
    "              correct_list.append(i)\n",
    "        correct += (predicted == target).sum().item()\n",
    "\n",
    "print('Accuracy of the network on the 10000 test images: %f %%' % (\n",
    "    100 * correct / total))"
   ]
  },
  {
   "cell_type": "markdown",
   "metadata": {
    "id": "9nCB-d-yDUEc"
   },
   "source": [
    "## Save it in correct format for submission"
   ]
  },
  {
   "cell_type": "code",
   "execution_count": 17,
   "metadata": {
    "id": "LGiuketcDOYg"
   },
   "outputs": [],
   "source": [
    "# Create Submission file        \n",
    "df = pd.DataFrame(Label_Encode.inverse_transform(preds),columns=['ClassName'])\n",
    "df.to_csv('submissionOof.csv',index=False)"
   ]
  }
 ],
 "metadata": {
  "accelerator": "GPU",
  "colab": {
   "collapsed_sections": [],
   "machine_shape": "hm",
   "name": "FOODC.ipynb",
   "provenance": []
  },
  "kernelspec": {
   "display_name": "Python 3 (ipykernel)",
   "language": "python",
   "name": "python3"
  },
  "language_info": {
   "codemirror_mode": {
    "name": "ipython",
    "version": 3
   },
   "file_extension": ".py",
   "mimetype": "text/x-python",
   "name": "python",
   "nbconvert_exporter": "python",
   "pygments_lexer": "ipython3",
   "version": "3.8.5"
  }
 },
 "nbformat": 4,
 "nbformat_minor": 4
}
